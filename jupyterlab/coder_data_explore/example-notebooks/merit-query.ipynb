{
 "cells": [
  {
   "cell_type": "markdown",
   "metadata": {},
   "source": [
    "# MERIT Query"
   ]
  },
  {
   "cell_type": "markdown",
   "metadata": {},
   "source": [
    "## Initialization"
   ]
  },
  {
   "cell_type": "code",
   "execution_count": null,
   "metadata": {
    "pycharm": {
     "is_executing": true
    }
   },
   "outputs": [],
   "source": [
    "import logging\n",
    "\n",
    "%matplotlib inline\n",
    "\n",
    "consoleHandler = logging.StreamHandler()\n",
    "consoleHandler.setFormatter(logging.Formatter('%(asctime)s - %(name)s - %(levelname)s - %(message)s'))\n",
    "logging.getLogger().addHandler(consoleHandler)\n",
    "\n",
    "# %env"
   ]
  },
  {
   "cell_type": "code",
   "execution_count": null,
   "metadata": {
    "collapsed": false,
    "jupyter": {
     "outputs_hidden": false
    },
    "pycharm": {
     "is_executing": true,
     "name": "#%%\n"
    }
   },
   "outputs": [],
   "source": [
    "from typing import Optional\n",
    "import matplotlib.pyplot as plt\n",
    "\n",
    "import pandas\n",
    "import dask.dataframe as dd\n",
    "\n",
    "from jupiter_csg_query.core import URL, Selector, Result\n",
    "from jupiter_csg_query.util import generator\n",
    "from jupiter_csg_query.source import merit\n",
    "from jupiter_csg_query.runtime.batch import BatchProvider\n",
    "\n",
    "logging.getLogger('jupiter.csg.query').setLevel(logging.DEBUG)"
   ]
  },
  {
   "cell_type": "code",
   "execution_count": null,
   "metadata": {
    "collapsed": false,
    "jupyter": {
     "outputs_hidden": false
    },
    "pycharm": {
     "name": "#%%\n"
    }
   },
   "outputs": [],
   "source": [
    "\n",
    "def show_points(df:pandas.DataFrame):\n",
    "    xs = df['longitude']\n",
    "    ys = df['latitude']\n",
    "    plt.scatter(xs, ys)\n",
    "    plt.show()"
   ]
  },
  {
   "cell_type": "markdown",
   "metadata": {},
   "source": [
    "# Context"
   ]
  },
  {
   "cell_type": "code",
   "execution_count": null,
   "metadata": {},
   "outputs": [],
   "source": [
    "# current user\n",
    "user = 'test-user'\n",
    "\n",
    "# location for source, work-area and output files\n",
    "source_url = URL(f\"s3://jupiter-reference-data/MERIT/hydro\")\n",
    "work_area_url = URL(f's3://jupiter-climatescoreglobal-eos/reports/query/{user}/')\n",
    "output_url = URL(f's3://jupiter-climatescoreglobal-eos/reports/{user}/test_set_dem.csv')"
   ]
  },
  {
   "cell_type": "markdown",
   "metadata": {},
   "source": [
    "## Open Query Batch Source"
   ]
  },
  {
   "cell_type": "code",
   "execution_count": null,
   "metadata": {},
   "outputs": [],
   "source": [
    "# runtime query executor\n",
    "provider = BatchProvider(\n",
    "    work_area_url=work_area_url,\n",
    "    parallelism=1 * 32,\n",
    "    job_queue='csg-global-prod-validation',\n",
    "    job_definition='csg-query-dev:11',\n",
    "    region='us-east-1'\n",
    ")\n",
    "\n",
    "# source instance to run queries\n",
    "merit_query = merit.QuerySource(\n",
    "    source_url=source_url,\n",
    "    provider=provider,\n",
    ")\n",
    "\n",
    "merit_query"
   ]
  },
  {
   "cell_type": "markdown",
   "metadata": {},
   "source": [
    "## Prepare input for the query"
   ]
  },
  {
   "cell_type": "markdown",
   "metadata": {},
   "source": [
    "### Load input/points from a single file"
   ]
  },
  {
   "cell_type": "code",
   "execution_count": null,
   "metadata": {},
   "outputs": [],
   "source": [
    "# input_url = 's3://jupiter-climatescoreglobal-eos/reports/test/hotels_70k_CSG_input.csv'\n",
    "input_url = \"s3://jupiter-climatescoreglobal-eos/reports/internal-projects/CSG_40K_Samples_Verification_w_tileid.csv\"\n",
    "df_input = pandas.read_csv(input_url, nrows=20)\n",
    "df_input.info()"
   ]
  },
  {
   "cell_type": "code",
   "execution_count": null,
   "metadata": {
    "collapsed": false,
    "jupyter": {
     "outputs_hidden": false
    },
    "pycharm": {
     "name": "#%%\n"
    }
   },
   "outputs": [],
   "source": [
    "# input_url = 's3://jupiter-climatescoreglobal-eos/reports/input/*.csv'\n",
    "# df_input = dd.read_csv(input_url).compute()"
   ]
  },
  {
   "cell_type": "markdown",
   "metadata": {},
   "source": [
    "### Visualize the points"
   ]
  },
  {
   "cell_type": "code",
   "execution_count": null,
   "metadata": {},
   "outputs": [],
   "source": [
    "show_points(df_input)"
   ]
  },
  {
   "cell_type": "markdown",
   "metadata": {},
   "source": [
    "### Specify selection"
   ]
  },
  {
   "cell_type": "code",
   "execution_count": null,
   "metadata": {},
   "outputs": [],
   "source": [
    "# Elevation selector\n",
    "'''\n",
    "elevationSelector = {\n",
    "    \"variable\": {\"BiasCorrected\"},\n",
    "    \"version\": {8},\n",
    "    \"measure\": {\"elevation\"},\n",
    "}\n",
    "'''\n",
    "\n",
    "# Slope selector\n",
    "slopeSelector = {\n",
    "    \"variable\": {\"BiasCorrected\"},\n",
    "    \"version\": {8},\n",
    "    \"measure\": {\"slope\"},\n",
    "    \"suffix\": {\"_slope_riserun\"},\n",
    "}\n",
    "slopeHifiSelector = {\n",
    "    \"variable\": {\"BiasCorrected\"},\n",
    "    \"version\": {8},\n",
    "    \"measure\": {\"slope_hifi\"},\n",
    "    \"suffix\": {\"_slope_riserun\"},\n",
    "}\n",
    "\n",
    "# Drainage area does not have a version or a metric\n",
    "drainageAreaSelector = {\n",
    "    \"variable\": {\"DrainageArea\"},\n",
    "}\n",
    "\n",
    "\n",
    "selector = {\n",
    "    # \"elevation-scenario-1\": elevationSelector,\n",
    "    \"slope\": slopeSelector,\n",
    "    \"slope-hifi\": slopeHifiSelector,\n",
    "    \"drainageArea\": drainageAreaSelector,\n",
    "}\n"
   ]
  },
  {
   "cell_type": "markdown",
   "metadata": {},
   "source": [
    "## Launch query batch pipeline "
   ]
  },
  {
   "cell_type": "code",
   "execution_count": null,
   "metadata": {},
   "outputs": [],
   "source": [
    "# execute the query, it will block till completion\n",
    "# input: pandas.DataFrame with ['latitude', 'longitude'] fields, the names are reserved\n",
    "# dry_run: if `True` it will not execute batch but verify parameters\n",
    "\n",
    "# select needed columns\n",
    "\n",
    "result: Result = merit_query.query(\n",
    "    input=df_input[['locationId','latitude', 'longitude']],\n",
    "    selector=selector,\n",
    "    pipeline='gdal',\n",
    "    # format='parquet',\n",
    "    tag='descriptions',\n",
    "    dry_run=False\n",
    ")"
   ]
  },
  {
   "cell_type": "markdown",
   "metadata": {},
   "source": [
    "### Load result from into dask DataFrame\n",
    "\n",
    "_Note:_ `nodata` values returned as `np.nan`"
   ]
  },
  {
   "cell_type": "code",
   "execution_count": null,
   "metadata": {
    "pycharm": {
     "name": "#%%\n"
    }
   },
   "outputs": [],
   "source": [
    "# load result into pandas DataFrame\n",
    "\n",
    "if result is not None:\n",
    "    for scenario in selector:\n",
    "        df = result.read(scenario)\n",
    "        df.info()"
   ]
  },
  {
   "cell_type": "markdown",
   "metadata": {
    "jupyter": {
     "outputs_hidden": false
    },
    "pycharm": {
     "name": "#%%\n"
    }
   },
   "source": [
    "Unused for now:\n",
    "```\n",
    "elevation_scenario_1 = result.read('elevation-scenario-1')\n",
    "elevation_scenario_1\n",
    "```"
   ]
  },
  {
   "cell_type": "code",
   "execution_count": null,
   "metadata": {},
   "outputs": [],
   "source": [
    "slope = result.read('slope', dtype={\"locationId\": int}).set_index(\"_id_\")\n",
    "slope = slope.rename(columns={\"value-Slope - riserun\": \"center_slope\"})\n",
    "slope = slope.drop(columns=[\"variable\", \"version\", \"suffix\", \"measure\"])"
   ]
  },
  {
   "cell_type": "code",
   "execution_count": null,
   "metadata": {},
   "outputs": [],
   "source": [
    "slope_hifi = result.read('slope-hifi', dtype={\"locationId\": int}).set_index(\"_id_\")\n",
    "slope_hifi = slope_hifi.rename(columns={\"value-Slope - riserun\": \"center_slope_hifi\"})\n",
    "slope_hifi = slope_hifi.drop(columns=[\"variable\", \"version\", \"suffix\", \"measure\"])"
   ]
  },
  {
   "cell_type": "code",
   "execution_count": null,
   "metadata": {},
   "outputs": [],
   "source": [
    "drainageArea = result.read('drainageArea', dtype={\"locationId\": int}).set_index(\"_id_\")\n",
    "drainageArea = drainageArea.rename(columns={\"value-0\": \"center_drainageArea\"})\n",
    "drainageArea = drainageArea.drop(columns=[\"variable\", \"version\", \"suffix\", \"measure\"])"
   ]
  },
  {
   "cell_type": "code",
   "execution_count": null,
   "metadata": {},
   "outputs": [],
   "source": [
    "if \"tile\" not in df_input.columns:\n",
    "    df_input = df_input.rename(columns={\"tileid\": \"tile\"})\n",
    "\n",
    "merge_cols = [\"tile\", \"locationId\", \"latitude\", \"longitude\"]\n",
    "df_out = df_input.merge(\n",
    "    slope, on=merge_cols\n",
    ").merge(\n",
    "    slope_hifi, on=merge_cols\n",
    ").merge(\n",
    "    drainageArea, on=merge_cols\n",
    ").rename(\n",
    "    columns={\"tile\": \"tileId\"}\n",
    ")\n",
    "df_out.head()"
   ]
  },
  {
   "cell_type": "code",
   "execution_count": null,
   "metadata": {},
   "outputs": [],
   "source": [
    "df_out.to_csv(str(output_url), index=False)"
   ]
  },
  {
   "cell_type": "code",
   "execution_count": null,
   "metadata": {},
   "outputs": [],
   "source": []
  }
 ],
 "metadata": {
  "kernelspec": {
   "display_name": "Python 3",
   "language": "python",
   "name": "python3"
  },
  "language_info": {
   "codemirror_mode": {
    "name": "ipython",
    "version": 3
   },
   "file_extension": ".py",
   "mimetype": "text/x-python",
   "name": "python",
   "nbconvert_exporter": "python",
   "pygments_lexer": "ipython3",
   "version": "3.7.10"
  },
  "widgets": {
   "application/vnd.jupyter.widget-state+json": {
    "state": {},
    "version_major": 2,
    "version_minor": 0
   }
  }
 },
 "nbformat": 4,
 "nbformat_minor": 4
}
