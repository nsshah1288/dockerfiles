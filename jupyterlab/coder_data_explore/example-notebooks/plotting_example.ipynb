{
 "cells": [
  {
   "cell_type": "markdown",
   "metadata": {},
   "source": [
    "# Plotting Example Notebook"
   ]
  },
  {
   "cell_type": "code",
   "execution_count": null,
   "metadata": {},
   "outputs": [],
   "source": [
    "import pandas as pd\n",
    "import numpy as np\n",
    "import matplotlib.pyplot as plt"
   ]
  },
  {
   "cell_type": "code",
   "execution_count": null,
   "metadata": {},
   "outputs": [],
   "source": [
    "# define some column groups we already know\n",
    "id_cols = [\"locationId\", \"longitude\", \"latitude\"]\n",
    "baseline_cols = [f\"FR_fireProbability_1995_baseline_{v}\" for v in [\"lower\", \"mean\", \"upper\"]]\n",
    "ssp585_mean_cols = [f\"FR_fireProbability_{y}_ssp585_mean\" for y in range(2020, 2045, 5)]\n",
    "usecols = id_cols + baseline_cols + ssp585_mean_cols"
   ]
  },
  {
   "cell_type": "code",
   "execution_count": null,
   "metadata": {},
   "outputs": [],
   "source": [
    "# read input csv (only grab a subset of columns and a few rows)\n",
    "df = pd.read_csv(\n",
    "    \"s3://jupiter-climatescoreglobal-eos/reports/MMC/MMC_results_raw_fire_pt4.csv\",\n",
    "    usecols=usecols,\n",
    "    nrows=7,\n",
    ")\n",
    "df"
   ]
  },
  {
   "cell_type": "code",
   "execution_count": null,
   "metadata": {},
   "outputs": [],
   "source": [
    "# some UQ checks on Baseline\n",
    "plt.figure(figsize=(14, 8))\n",
    "for line, loc_id in zip(df[baseline_cols].values, df.locationId.values):\n",
    "    if all(np.isnan(line)):\n",
    "        print(f\"All nan: ID: {loc_id}\")\n",
    "    elif all(line < 0.0001):\n",
    "        print(f\"All 0s: ID: {loc_id}\")\n",
    "    else:\n",
    "        condition_max = np.max(line) < 0.6\n",
    "        condition_mean_low_diff = 0.0 <= line[1] - line[0] < 0.25\n",
    "        condition_high_mean_diff = 0.0 <= line[2] - line[1] < 0.25\n",
    "        if all([condition_max, condition_mean_low_diff, condition_high_mean_diff]):\n",
    "            plt.plot(line, '-o', label=loc_id)\n",
    "        else:\n",
    "            print(f\"No conditions met: ID: {loc_id}\")\n",
    "plt.legend()\n",
    "plt.title(\"Baseline UQ Checks\")\n",
    "plt.show()"
   ]
  },
  {
   "cell_type": "code",
   "execution_count": null,
   "metadata": {},
   "outputs": [],
   "source": [
    "# some year checks on ssp585 mean\n",
    "plt.figure(figsize=(14, 8))\n",
    "for line, loc_id in zip(df[ssp585_mean_cols].values, df.locationId.values):\n",
    "    if all(np.isnan(line)):\n",
    "        print(f\"All nan: ID: {loc_id}\")\n",
    "    elif all(line < 0.0001):\n",
    "        print(f\"All 0s: ID: {loc_id}\")\n",
    "    else:\n",
    "        diff = np.diff(line)\n",
    "        condition_neg_diff = not any(diff < 0)\n",
    "        condition_pos_diff_big = not any(diff > 0.25)\n",
    "        if all([condition_neg_diff, condition_pos_diff_big]):\n",
    "            plt.plot(line, '-o', label=loc_id)\n",
    "        else:\n",
    "            print(f\"No conditions met: ID: {loc_id}\")\n",
    "plt.legend()\n",
    "plt.title(\"ssp585_mean Year Checks\")\n",
    "plt.show()"
   ]
  },
  {
   "cell_type": "code",
   "execution_count": null,
   "metadata": {},
   "outputs": [],
   "source": [
    "# plot a single location by id\n",
    "loc = 607\n",
    "plt.plot(df.query(\"locationId == @loc\")[ssp585_mean_cols].transpose().values, \"-o\")\n",
    "plt.title(f\"ssp585 mean, ID: {loc}\")\n",
    "plt.show()"
   ]
  },
  {
   "cell_type": "code",
   "execution_count": null,
   "metadata": {},
   "outputs": [],
   "source": []
  }
 ],
 "metadata": {
  "kernelspec": {
   "display_name": "Python 3",
   "language": "python",
   "name": "python3"
  },
  "language_info": {
   "codemirror_mode": {
    "name": "ipython",
    "version": 3
   },
   "file_extension": ".py",
   "mimetype": "text/x-python",
   "name": "python",
   "nbconvert_exporter": "python",
   "pygments_lexer": "ipython3",
   "version": "3.8.5"
  }
 },
 "nbformat": 4,
 "nbformat_minor": 4
}
